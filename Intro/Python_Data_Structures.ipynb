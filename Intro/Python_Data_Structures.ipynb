{
    "cells": [
        {
            "cell_type": "markdown",
            "id": "a77de5c9",
            "metadata": {
                "id": "a77de5c9"
            },
            "source": [
                "# Welcome to Data Structures in Python Practice Notebook!\n",
                "\n",
                "\n",
                "\n",
                "## What You'll Learn:\n",
                "\n",
                "- Lists\n",
                "- Tuples\n",
                "- Sets\n",
                "- and Dictionaries\n",
                "\n",
                "\n",
                "> 🎯 Think of this as your personal cheat sheet while you're getting comfortable with these operations through practice. Be sure to code along and try out ideas—that's the most effective way to learn and retain the material.\n",
                "\n",
                "Ready? Let’s dive in 👇"
            ]
        },
        {
            "cell_type": "markdown",
            "id": "22fab92a",
            "metadata": {
                "id": "22fab92a"
            },
            "source": [
                "## 📦 Python Data Structures\n",
                "\n",
                "Python provides several built-in data structures. Here's a quick comparison:\n",
                "\n",
                "| Structure    | Mutable | Ordered | Indexed | Allows Duplicates |\n",
                "|--------------|---------|---------|---------|-------------------|\n",
                "| **List**     | ✅ Yes  | ✅ Yes  | ✅ Yes  | ✅ Yes            |\n",
                "| **Tuple**    | ❌ No   | ✅ Yes  | ✅ Yes  | ✅ Yes            |\n",
                "| **Set**      | ✅ Yes  | ❌ No   | ❌ No   | ❌ No             |\n",
                "| **Dictionary**| ✅ Yes | ✅ Yes  | ✅ Keys | ✅ Keys must be unique |\n"
            ]
        },
        {
            "cell_type": "code",
            "execution_count": 2,
            "id": "a0b05fcd",
            "metadata": {
                "id": "a0b05fcd"
            },
            "outputs": [
                {
                    "name": "stdout",
                    "output_type": "stream",
                    "text": [
                        "List: ['apple', 'banana', 'apple']\n",
                        "Tuple: ('red', 'green', 'blue')\n",
                        "Set: {1, 2, 3}\n",
                        "Dictionary: {'name': 'Alice', 'age': 25, 'job': 'Developer'}\n"
                    ]
                }
            ],
            "source": [
                "# List\n",
                "fruits = [\"apple\", \"banana\", \"apple\"]\n",
                "print(\"List:\", fruits)\n",
                "\n",
                "# Tuple\n",
                "colors = (\"red\", \"green\", \"blue\")\n",
                "print(\"Tuple:\", colors)\n",
                "\n",
                "# Set\n",
                "unique_numbers = {1, 2, 2, 3}\n",
                "print(\"Set:\", unique_numbers)  # Duplicates removed\n",
                "\n",
                "# Dictionary\n",
                "person = {\"name\": \"Alice\", \"age\": 25, \"job\": \"Developer\"}\n",
                "print(\"Dictionary:\", person)\n"
            ]
        },
        {
            "cell_type": "markdown",
            "id": "19ecb25b",
            "metadata": {
                "id": "19ecb25b"
            },
            "source": [
                "### List Operations"
            ]
        },
        {
            "cell_type": "code",
            "execution_count": 3,
            "id": "5aa514e9",
            "metadata": {
                "id": "5aa514e9"
            },
            "outputs": [
                {
                    "name": "stdout",
                    "output_type": "stream",
                    "text": [
                        "After append: ['apple', 'banana', 'apple', 'orange']\n",
                        "After remove: ['banana', 'apple', 'orange']\n",
                        "After insert: ['banana', 'kiwi', 'apple', 'orange']\n",
                        "After sort: ['apple', 'banana', 'kiwi', 'orange']\n",
                        "After pop: ['apple', 'kiwi', 'orange']\n"
                    ]
                }
            ],
            "source": [
                "# add a new item at the end of the list\n",
                "fruits.append(\"orange\")\n",
                "print(\"After append:\", fruits)\n",
                "# list removes the first occurrence of the value\n",
                "fruits.remove(\"apple\")\n",
                "print(\"After remove:\", fruits)\n",
                "# insert at index (1)\n",
                "fruits.insert(1, \"kiwi\")\n",
                "print(\"After insert:\", fruits)\n",
                "# sort the list\n",
                "fruits.sort()\n",
                "print(\"After sort:\", fruits)\n",
                "# remove with index (1)\n",
                "fruits.pop(1)\n",
                "print(\"After pop:\", fruits)"
            ]
        },
        {
            "cell_type": "markdown",
            "id": "qy1m4xdlPb2R",
            "metadata": {
                "id": "qy1m4xdlPb2R"
            },
            "source": [
                "### 📚 List Methods Summary\n",
                "\n",
                "| **Method**              | **Description**                                                                 |\n",
                "|-------------------------|---------------------------------------------------------------------------------|\n",
                "| `.append(item)`         | Adds `item` to the end of the list                                              |\n",
                "| `.remove(item)`         | Removes the **first occurrence** of `item` from the list                        |\n",
                "| `.insert(index, item)`  | Inserts `item` at the specified `index`                                         |\n",
                "| `.sort()`               | Sorts the list in ascending order (modifies the list in place)                  |\n",
                "| `.pop(index)`           | Removes and returns the item at the specified `index` (default is last item)    |\n",
                "| `.enumerate()`           | gives you both the index and the value as you loop.    |\n"
            ]
        },
        {
            "cell_type": "markdown",
            "id": "u9m8KqY1NmKT",
            "metadata": {
                "id": "u9m8KqY1NmKT"
            },
            "source": [
                "### Dictionary Operations"
            ]
        },
        {
            "cell_type": "code",
            "execution_count": 7,
            "id": "jroZZbypNrlX",
            "metadata": {
                "id": "jroZZbypNrlX"
            },
            "outputs": [
                {
                    "name": "stdout",
                    "output_type": "stream",
                    "text": [
                        "Initial Dictionary: {'Germany': 'Berlin', 'Canada': 'Ottawa', 'England': 'London'}\n",
                        "Capital of Germany: Berlin\n",
                        "Capital of England (using get): London\n",
                        "After add/update: {'Germany': 'Berlin', 'Canada': 'Toronto', 'England': 'London', 'Italy': 'Rome'}\n",
                        "After deleting Germany: {'Canada': 'Toronto', 'England': 'London', 'Italy': 'Rome'}\n",
                        "Removed: Rome\n",
                        "Last item removed: ('England', 'London')\n",
                        "After clearing: {}\n",
                        "Copied dictionary (unchanged): {'Canada': 'Toronto'}\n",
                        ".pdf in file_types: True\n",
                        ".mp3 not in file_types: True\n",
                        "Key: Canada | Value: Toronto\n",
                        "Keys: dict_keys(['Canada'])\n",
                        "Values: dict_values(['Toronto'])\n",
                        "Items: dict_items([('Canada', 'Toronto')])\n",
                        "Length: 1\n",
                        "Algeirs\n"
                    ]
                }
            ],
            "source": [
                "# Create a dictionary\n",
                "country_capitals = {\n",
                "    \"Germany\": \"Berlin\",\n",
                "    \"Canada\": \"Ottawa\",\n",
                "    \"England\": \"London\"\n",
                "}\n",
                "print(\"Initial Dictionary:\", country_capitals)\n",
                "\n",
                "# Access items\n",
                "print(\"Capital of Germany:\", country_capitals[\"Germany\"])\n",
                "print(\"Capital of England (using get):\", country_capitals.get(\"England\"))\n",
                "\n",
                "# Add or update items\n",
                "country_capitals[\"Italy\"] = \"Rome\"  # Add\n",
                "country_capitals.update({\"Canada\": \"Toronto\"})  # Update\n",
                "print(\"After add/update:\", country_capitals)\n",
                "\n",
                "# Delete items\n",
                "del country_capitals[\"Germany\"]  # Delete by key\n",
                "print(\"After deleting Germany:\", country_capitals)\n",
                "\n",
                "removed = country_capitals.pop(\"Italy\")  # Remove and return value\n",
                "print(\"Removed:\", removed)\n",
                "\n",
                "last_removed = country_capitals.popitem()  # Remove last inserted item\n",
                "print(\"Last item removed:\", last_removed)\n",
                "\n",
                "# Clear all items\n",
                "copy_dict = country_capitals.copy()  # Make a copy\n",
                "country_capitals.clear()\n",
                "print(\"After clearing:\", country_capitals)\n",
                "print(\"Copied dictionary (unchanged):\", copy_dict)\n",
                "\n",
                "# Check membership\n",
                "file_types = {\".txt\": \"Text File\", \".pdf\": \"PDF Document\"}\n",
                "print(\".pdf in file_types:\", \".pdf\" in file_types)\n",
                "print(\".mp3 not in file_types:\", \".mp3\" not in file_types)\n",
                "\n",
                "# Iterate through dictionary\n",
                "for key in copy_dict:\n",
                "    print(\"Key:\", key, \"| Value:\", copy_dict[key])\n",
                "\n",
                "# Dictionary methods\n",
                "print(\"Keys:\", copy_dict.keys())      # Get all keys\n",
                "print(\"Values:\", copy_dict.values())  # Get all values\n",
                "print(\"Items:\", copy_dict.items())    # Get all (key, value) pairs\n",
                "\n",
                "# Length of dictionary\n",
                "print(\"Length:\", len(copy_dict))\n",
                "\n",
                "# Get method\n",
                "print(country_capitals.get('Algeria','Algeirs')) # Returns the value of the key Algeria, if it doesn't exist it returns a deafult value (Algeirs)"
            ]
        },
        {
            "cell_type": "markdown",
            "id": "JOSihXBkPY2Z",
            "metadata": {
                "id": "JOSihXBkPY2Z"
            },
            "source": [
                "### 📚 Dictionary Methods Summary\n",
                "\n",
                "| **Method**       | **Description**                                                        |\n",
                "|------------------|------------------------------------------------------------------------|\n",
                "| `.get(key, deafult)`      | Returns the value for `key` if key is in the dictionary else `deafult`               |\n",
                "| `.pop(key)`      | Removes specified key and returns its value                            |\n",
                "| `.popitem()`     | Removes and returns the last inserted `(key, value)` pair              |\n",
                "| `.update()`      | Updates dictionary with elements from another dictionary or iterable   |\n",
                "| `.clear()`       | Removes all elements from the dictionary                               |\n",
                "| `.copy()`        | Returns a shallow copy of the dictionary                               |\n",
                "| `.keys()`        | Returns a view object containing all the keys                          |\n",
                "| `.values()`      | Returns a view object containing all the values                        |\n",
                "| `.items()`       | Returns a view object containing all `(key, value)` pairs              |\n"
            ]
        },
        {
            "cell_type": "markdown",
            "id": "7KTB3EWNPkJz",
            "metadata": {
                "id": "7KTB3EWNPkJz"
            },
            "source": [
                "# Sets Operations"
            ]
        },
        {
            "cell_type": "code",
            "execution_count": null,
            "id": "Fw-hxAOqQIhC",
            "metadata": {
                "id": "Fw-hxAOqQIhC"
            },
            "outputs": [],
            "source": [
                "# Creating Sets\n",
                "\n",
                "# 1. Set of integers\n",
                "student_id = {112, 114, 116, 118, 115}\n",
                "print(\"Student ID:\", student_id)\n",
                "\n",
                "# 2. Set of strings\n",
                "vowel_letters = {'a', 'e', 'i', 'o', 'u'}\n",
                "print(\"Vowel Letters:\", vowel_letters)\n",
                "\n",
                "# 3. Set of mixed data types\n",
                "mixed_set = {'Hello', 101, -2, 'Bye'}\n",
                "print(\"Set of mixed data types:\", mixed_set)\n",
                "\n",
                "# Sets Automatically Remove Duplicates\n",
                "numbers = {2, 4, 6, 6, 2, 8}\n",
                "print(\"No duplicates allowed:\", numbers)\n",
                "\n",
                "# Add Items with add()\n",
                "numbers = {21, 34, 54, 12}\n",
                "print(\"Original Set:\", numbers)\n",
                "numbers.add(32)\n",
                "print(\"After add(32):\", numbers)\n",
                "\n",
                "# Update Set with Another Collection (list, set, tuple)\n",
                "companies = {'Lacoste', 'Ralph Lauren'}\n",
                "tech_companies = ['apple', 'google', 'apple']\n",
                "companies.update(tech_companies)\n",
                "print(\"After update():\", companies)\n",
                "\n",
                "# Set Built-in Functions and Operations\n",
                "\n",
                "values = {10, 20, 30, 40, 50}\n",
                "\n",
                "print(\"all():\", all(values))                # True if all values are truthy\n",
                "print(\"any():\", any(values))                # True if any value is truthy\n",
                "print(\"enumerate():\", list(enumerate(values)))  # List of (index, value) pairs\n",
                "print(\"len():\", len(values))                # Number of elements\n",
                "print(\"max():\", max(values))                # Maximum value\n",
                "print(\"min():\", min(values))                # Minimum value\n",
                "print(\"sorted():\", sorted(values))          # Sorted version of set (as list)\n",
                "print(\"sum():\", sum(values))                # Sum of elements\n"
            ]
        },
        {
            "cell_type": "markdown",
            "id": "UhRaCu5WQ1fq",
            "metadata": {
                "id": "UhRaCu5WQ1fq"
            },
            "source": [
                "### 📚 Set Methods Summary\n",
                "\n",
                "| **Method / Function**     | **Description**                                                                 |\n",
                "|---------------------------|---------------------------------------------------------------------------------|\n",
                "| `.add(elem)`              | Adds an element `elem` to the set                                               |\n",
                "| `.update(iterable)`       | Adds multiple elements from an iterable (like list, set, tuple)                 |\n",
                "| `.remove(elem)`           | Removes `elem` from the set; raises error if not found                          |\n",
                "| `.discard(elem)`          | Removes `elem` if present; does nothing if not found                            |\n",
                "| `.pop()`                  | Removes and returns an arbitrary element                                        |\n",
                "| `.clear()`                | Removes all elements from the set                                               |\n",
                "| `.copy()`                 | Returns a shallow copy of the set                                               |\n",
                "| `len(set)`                | Returns the number of elements in the set                                       |\n",
                "| `max(set)`                | Returns the maximum value in the set                                            |\n",
                "| `min(set)`                | Returns the minimum value in the set                                            |\n",
                "| `sum(set)`                | Returns the sum of all elements in the set                                      |\n",
                "| `sorted(set)`             | Returns a sorted list of the set’s elements                                     |\n",
                "| `all(set)`                | Returns `True` if all elements are truthy                                       |\n",
                "| `any(set)`                | Returns `True` if any element is truthy                                         |\n",
                "| `enumerate(set)`          | Returns an enumerate object (can be converted to list of index-element tuples)  |\n"
            ]
        },
        {
            "cell_type": "markdown",
            "id": "rgmp0C9lRJhO",
            "metadata": {
                "id": "rgmp0C9lRJhO"
            },
            "source": [
                "# Tuples Operations"
            ]
        },
        {
            "cell_type": "code",
            "execution_count": null,
            "id": "m_cB9VfxRYFd",
            "metadata": {
                "id": "m_cB9VfxRYFd"
            },
            "outputs": [],
            "source": [
                "# Creating a tuple\n",
                "numbers = (1, 2, -5)\n",
                "print(\"Numbers Tuple:\", numbers) # Output: (1, 2, -5)\n",
                "\n",
                "\n",
                "# Accessing Tuple Elements by Index\n",
                "languages = ('Python', 'Swift', 'C++')\n",
                "print(\"First language:\", languages[0])   # Output: Python\n",
                "print(\"Third language:\", languages[2])   # Output: C++\n",
                "\n",
                "# Tuples are immutable\n",
                "cars = ('BMW', 'Tesla', 'Ford', 'Toyota')\n",
                "# The following line will raise an error if uncommented\n",
                "# cars[0] = 'Nissan'  # TypeError: 'tuple' object does not support item assignment\n",
                "\n",
                "# Length of a tuple\n",
                "print(\"Total cars:\", len(cars))  # Output: Total cars: 4\n",
                "\n",
                "# Iterating through a tuple\n",
                "fruits = ('apple', 'banana', 'orange')\n",
                "print(\"Fruits in the tuple:\")\n",
                "for fruit in fruits:\n",
                "    print(fruit)"
            ]
        }
    ],
    "metadata": {
        "colab": {
            "provenance": []
        },
        "kernelspec": {
            "display_name": "Python 3",
            "language": "python",
            "name": "python3"
        },
        "language_info": {
            "codemirror_mode": {
                "name": "ipython",
                "version": 3
            },
            "file_extension": ".py",
            "mimetype": "text/x-python",
            "name": "python",
            "nbconvert_exporter": "python",
            "pygments_lexer": "ipython3",
            "version": "3.11.9"
        }
    },
    "nbformat": 4,
    "nbformat_minor": 5
}
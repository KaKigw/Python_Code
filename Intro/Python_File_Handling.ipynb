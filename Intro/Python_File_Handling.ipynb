{
    "cells": [
        {
            "cell_type": "markdown",
            "metadata": {},
            "source": [
                "# 📘 File Handling & Data Science I/O Operations\n",
                "**Author:** Kaki  \n",
                "**Date:** July 2025"
            ]
        },
        {
            "cell_type": "markdown",
            "metadata": {},
            "source": [
                "## ✨ Section 1: Basic File Handling"
            ]
        },
        {
            "cell_type": "code",
            "execution_count": null,
            "metadata": {},
            "outputs": [],
            "source": [
                "# Writing and appending textual data\n",
                "with open(\"info.txt\", \"w\") as f:\n",
                "    f.write(\"Kaki\\n25\")  # Write name and age\n",
                "\n",
                "with open(\"info.txt\", \"a\") as f:\n",
                "    f.write(\"\\nLoves building Streamlit apps\")  # Append hobby"
            ]
        },
        {
            "cell_type": "code",
            "execution_count": null,
            "metadata": {},
            "outputs": [],
            "source": [
                "# Reading the file line by line (memory-efficient)\n",
                "with open(\"info.txt\", \"r\") as f:\n",
                "    for line in f:\n",
                "        print(line.strip())"
            ]
        },
        {
            "cell_type": "code",
            "execution_count": null,
            "metadata": {},
            "outputs": [],
            "source": [
                "# 🧹 Optional: Delete a file\n",
                "# import os\n",
                "# os.remove(\"temp.txt\")"
            ]
        },
        {
            "cell_type": "markdown",
            "metadata": {},
            "source": [
                "## ✨ Section 2: Working with JSON"
            ]
        },
        {
            "cell_type": "code",
            "execution_count": null,
            "metadata": {},
            "outputs": [],
            "source": [
                "import json\n",
                "\n",
                "# Writing JSON data\n",
                "profile = {\"name\": \"Kaki\", \"skills\": [\"Python\", \"NumPy\"]}\n",
                "with open(\"profile.json\", \"w\") as f:\n",
                "    json.dump(profile, f)\n",
                "\n",
                "# Reading JSON data\n",
                "with open(\"profile.json\", \"r\") as f:\n",
                "    loaded_profile = json.load(f)\n",
                "    print(json.dumps(loaded_profile, indent=4))"
            ]
        },
        {
            "cell_type": "markdown",
            "metadata": {},
            "source": [
                "## ✨ Section 3: CSV + NumPy Integration"
            ]
        },
        {
            "cell_type": "code",
            "execution_count": null,
            "metadata": {},
            "outputs": [],
            "source": [
                "import numpy as np\n",
                "\n",
                "# Example CSV should look like this:\n",
                "# Name,Age,City\n",
                "# Alice,30,New York\n",
                "# Bob,25,Los Angeles\n",
                "# Charlie,35,Chicago\n",
                "\n",
                "# Reading numerical CSV (after skipping header)\n",
                "data = np.genfromtxt(\"data.csv\", delimiter=\",\", skip_header=1)\n",
                "\n",
                "# 💡 Explore the data\n",
                "print(\"First 2 rows:\\n\", data[:2])\n",
                "print(\"All ages:\\n\", data[:, 1])\n",
                "print(\"Average age:\", np.mean(data[:, 1]))"
            ]
        },
        {
            "cell_type": "code",
            "execution_count": null,
            "metadata": {},
            "outputs": [],
            "source": [
                "# 🧠 Optional: Let NumPy infer types (if mix of strings/numbers)\n",
                "# data = np.genfromtxt(\"data.csv\", delimiter=\",\", dtype=None, encoding='utf-8')"
            ]
        }
    ],
    "metadata": {
        "kernelspec": {
            "display_name": "Python 3",
            "language": "python",
            "name": "python3"
        },
        "language_info": {
            "name": "python",
            "version": "3.11.9"
        }
    },
    "nbformat": 4,
    "nbformat_minor": 2
}
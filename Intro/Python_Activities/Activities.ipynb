{
    "cells": [
        {
            "cell_type": "code",
            "execution_count": 44,
            "id": "ca39acd4",
            "metadata": {},
            "outputs": [
                {
                    "name": "stdout",
                    "output_type": "stream",
                    "text": [
                        "2.3.1\n",
                        "[0 0 0 0 0 0 0 0 0 0]\n"
                    ]
                }
            ],
            "source": [
                "import numpy as np\n",
                "\n",
                "print(np.__version__)\n",
                "\n",
                "Z = np.zeros(10, dtype=np.int32)\n",
                "print(Z)\n",
                "\n"
            ]
        },
        {
            "cell_type": "code",
            "execution_count": 45,
            "id": "116ca9a2",
            "metadata": {},
            "outputs": [
                {
                    "name": "stdout",
                    "output_type": "stream",
                    "text": [
                        "[10 11 12 13 14 15 16 17 18 19 20 21 22 23 24 25 26 27 28 29 30 31 32 33\n",
                        " 34 35 36 37 38 39 40 41 42 43 44 45 46 47 48 49]\n",
                        "[20 19 18 17 16 15 14 13 12 11 10]\n"
                    ]
                }
            ],
            "source": [
                "Z = np.arange(10,50)\n",
                "print(Z)\n",
                "Z = Z[10::-1]\n",
                "print(Z)"
            ]
        },
        {
            "cell_type": "code",
            "execution_count": 46,
            "id": "99e53d52",
            "metadata": {},
            "outputs": [
                {
                    "data": {
                        "text/plain": [
                            "array([[0, 1, 2],\n",
                            "       [3, 4, 5],\n",
                            "       [6, 7, 8]], dtype=int8)"
                        ]
                    },
                    "execution_count": 46,
                    "metadata": {},
                    "output_type": "execute_result"
                }
            ],
            "source": [
                "#### 9. Create a 3x3 matrix with values ranging from 0 to 8\n",
                "Z = np.arange(0,9,dtype=np.int8).reshape(3,3)\n",
                "Z"
            ]
        },
        {
            "cell_type": "code",
            "execution_count": 47,
            "id": "a678fedc",
            "metadata": {},
            "outputs": [
                {
                    "name": "stdout",
                    "output_type": "stream",
                    "text": [
                        "[0 1 4]\n"
                    ]
                }
            ],
            "source": [
                "#### 10. Find indices of non-zero elements from [1,2,0,0,4,0]\n",
                "nz = np.nonzero([1,2,0,0,4,0])\n",
                "print(nz[0])"
            ]
        },
        {
            "cell_type": "code",
            "execution_count": 48,
            "id": "59696af4",
            "metadata": {},
            "outputs": [
                {
                    "data": {
                        "text/plain": [
                            "array([[1., 0., 0.],\n",
                            "       [0., 1., 0.],\n",
                            "       [0., 0., 1.]])"
                        ]
                    },
                    "execution_count": 48,
                    "metadata": {},
                    "output_type": "execute_result"
                }
            ],
            "source": [
                "A = np.eye(3)\n",
                "A"
            ]
        },
        {
            "cell_type": "code",
            "execution_count": 49,
            "id": "6b4eab78",
            "metadata": {},
            "outputs": [
                {
                    "data": {
                        "text/plain": [
                            "array([[[8, 9, 8],\n",
                            "        [2, 8, 4],\n",
                            "        [6, 5, 7]],\n",
                            "\n",
                            "       [[8, 7, 5],\n",
                            "        [6, 5, 4],\n",
                            "        [7, 3, 9]],\n",
                            "\n",
                            "       [[1, 3, 9],\n",
                            "        [7, 7, 6],\n",
                            "        [9, 3, 6]]], dtype=int32)"
                        ]
                    },
                    "execution_count": 49,
                    "metadata": {},
                    "output_type": "execute_result"
                }
            ],
            "source": [
                "Z = np.random.random((3,3,3))\n",
                "X =np.random.randint(1, 10, size=(3, 3, 3))\n",
                "X"
            ]
        },
        {
            "cell_type": "code",
            "execution_count": 50,
            "id": "72269d35",
            "metadata": {},
            "outputs": [
                {
                    "name": "stdout",
                    "output_type": "stream",
                    "text": [
                        "[[7 4 3 3 4 4 1 2 6 4]\n",
                        " [9 7 2 1 1 6 3 9 2 5]\n",
                        " [9 6 2 8 6 8 9 1 6 4]\n",
                        " [5 5 9 8 6 3 8 5 3 8]\n",
                        " [1 1 7 8 7 7 3 3 4 8]\n",
                        " [2 2 5 9 2 3 9 2 6 2]\n",
                        " [9 1 5 1 8 4 4 4 3 3]\n",
                        " [3 7 9 2 7 6 3 8 4 9]\n",
                        " [6 9 9 6 9 1 6 7 4 2]\n",
                        " [3 3 1 3 9 3 9 1 7 3]]\n",
                        "\n",
                        "\n",
                        "1 9\n",
                        "\n",
                        "\n",
                        "1\n"
                    ]
                }
            ],
            "source": [
                "Z = np.random.randint(1,10, size=(10,10))\n",
                "print(Z)\n",
                "print(\"\\n\")\n",
                "Zmin, Zmax = Z.min(), Z.max()\n",
                "print(Zmin, Zmax)\n",
                "print(\"\\n\")\n",
                "S = np.min(Z)\n",
                "print(S)"
            ]
        },
        {
            "cell_type": "code",
            "execution_count": 51,
            "id": "652b9100",
            "metadata": {},
            "outputs": [
                {
                    "name": "stdout",
                    "output_type": "stream",
                    "text": [
                        "[[6 1 4 9 4 2 7 6 2 4]]\n",
                        "4.5\n"
                    ]
                }
            ],
            "source": [
                "Z = np.random.randint(1,10, size=(1,10))\n",
                "print(Z)\n",
                "m = Z.mean()\n",
                "print(m)\n"
            ]
        },
        {
            "cell_type": "code",
            "execution_count": 52,
            "id": "ad938851",
            "metadata": {},
            "outputs": [
                {
                    "name": "stdout",
                    "output_type": "stream",
                    "text": [
                        "[[1 1 1 1 1 1 1 1 1 1]\n",
                        " [1 0 0 0 0 0 0 0 0 1]\n",
                        " [1 0 0 0 0 0 0 0 0 1]\n",
                        " [1 0 0 0 0 0 0 0 0 1]\n",
                        " [1 0 0 0 0 0 0 0 0 1]\n",
                        " [1 0 0 0 0 0 0 0 0 1]\n",
                        " [1 0 0 0 0 0 0 0 0 1]\n",
                        " [1 0 0 0 0 0 0 0 0 1]\n",
                        " [1 0 0 0 0 0 0 0 0 1]\n",
                        " [1 1 1 1 1 1 1 1 1 1]]\n"
                    ]
                }
            ],
            "source": [
                "Z = np.ones((10,10),dtype = np.int32)\n",
                "Z[1:-1,1:-1] = 0\n",
                "print(Z)"
            ]
        },
        {
            "cell_type": "code",
            "execution_count": 55,
            "id": "40cd62a0",
            "metadata": {},
            "outputs": [
                {
                    "name": "stdout",
                    "output_type": "stream",
                    "text": [
                        "[[0 0 0 0 0 0 0]\n",
                        " [0 1 1 1 1 1 0]\n",
                        " [0 1 1 1 1 1 0]\n",
                        " [0 1 1 1 1 1 0]\n",
                        " [0 1 1 1 1 1 0]\n",
                        " [0 1 1 1 1 1 0]\n",
                        " [0 0 0 0 0 0 0]]\n"
                    ]
                }
            ],
            "source": [
                "Z = np.ones((5,5),dtype=np.int32)\n",
                "Z = np.pad(Z,pad_width=1,mode='constant',constant_values=0)\n",
                "print(Z)\n"
            ]
        },
        {
            "cell_type": "code",
            "execution_count": 56,
            "id": "540a959b",
            "metadata": {},
            "outputs": [
                {
                    "data": {
                        "text/plain": [
                            "True"
                        ]
                    },
                    "execution_count": 56,
                    "metadata": {},
                    "output_type": "execute_result"
                }
            ],
            "source": [
                "0 * np.nan\n",
                "np.nan == np.nan\n",
                "np.inf > np.nan\n",
                "np.nan - np.nan\n",
                "np.nan in set([np.nan])"
            ]
        },
        {
            "cell_type": "code",
            "execution_count": 1,
            "id": "4c1beb30",
            "metadata": {},
            "outputs": [
                {
                    "name": "stdout",
                    "output_type": "stream",
                    "text": [
                        "Covariance matrix of matrix_A:\n",
                        " [[ 1.5 -2.   2. ]\n",
                        " [-2.   7.7 -7. ]\n",
                        " [ 2.  -7.   8.5]]\n"
                    ]
                }
            ],
            "source": [
                "import numpy as np\n",
                "# Data matrix\n",
                "matrix_A = np.array([[1, 0, 0, 3, 1], [3, 6, 6, 2, 9], [4, 5, 3, 8, 0]])\n",
                "# Covariance matrix calculation\n",
                "cov_matrix = np.cov(matrix_A)\n",
                "print(\"Covariance matrix of matrix_A:\\n\", cov_matrix)"
            ]
        },
        {
            "cell_type": "code",
            "execution_count": 2,
            "id": "a58bb39d",
            "metadata": {},
            "outputs": [],
            "source": [
                "Z = np.array([[2, 4, 6], [8, 10, 12], [14, 16, 18]])"
            ]
        },
        {
            "cell_type": "code",
            "execution_count": 4,
            "id": "f22afa3a",
            "metadata": {},
            "outputs": [
                {
                    "name": "stdout",
                    "output_type": "stream",
                    "text": [
                        "10.0\n",
                        "10.0\n"
                    ]
                }
            ],
            "source": [
                "print(np.mean(Z))\n",
                "print(np.median(Z))"
            ]
        },
        {
            "cell_type": "code",
            "execution_count": 5,
            "id": "4308e354",
            "metadata": {},
            "outputs": [
                {
                    "name": "stdout",
                    "output_type": "stream",
                    "text": [
                        "14.5\n"
                    ]
                }
            ],
            "source": [
                "Z = np.array([1,3,5,7,9,11,13,15,17,19])\n",
                "print(np.percentile(Z,75))"
            ]
        },
        {
            "cell_type": "code",
            "execution_count": 6,
            "id": "1cc5638f",
            "metadata": {},
            "outputs": [
                {
                    "name": "stdout",
                    "output_type": "stream",
                    "text": [
                        "5.5\n"
                    ]
                }
            ],
            "source": [
                "Z = np.array([1,3,5,7,9,11,13,15,17,19])\n",
                "print(np.percentile(Z,25))"
            ]
        },
        {
            "cell_type": "code",
            "execution_count": 7,
            "id": "5f3c6796",
            "metadata": {},
            "outputs": [
                {
                    "name": "stdout",
                    "output_type": "stream",
                    "text": [
                        "apples      20\n",
                        "oranges     33\n",
                        "cherries    52\n",
                        "pears       10\n",
                        "dtype: int64\n",
                        "mere          17\n",
                        "portocale     13\n",
                        "cirese       311\n",
                        "pere          32\n",
                        "dtype: int64\n",
                        "apples      NaN\n",
                        "cherries    NaN\n",
                        "cirese      NaN\n",
                        "mere        NaN\n",
                        "oranges     NaN\n",
                        "pears       NaN\n",
                        "pere        NaN\n",
                        "portocale   NaN\n",
                        "dtype: float64\n"
                    ]
                }
            ],
            "source": [
                "import pandas as pd\n",
                "fruits = [\"apples\", \"oranges\", \"cherries\", \"pears\"]\n",
                "fruits_ro = [\"mere\", \"portocale\", \"cirese\", \"pere\"]\n",
                "S = pd.Series([20, 33, 52, 10], index=fruits)\n",
                "S2 = pd.Series([17, 13, 311, 32], index=fruits_ro)\n",
                "print(S)\n",
                "print(S2)\n",
                "print(S + S2)"
            ]
        },
        {
            "cell_type": "code",
            "execution_count": 3,
            "id": "f8c18129",
            "metadata": {},
            "outputs": [
                {
                    "name": "stdout",
                    "output_type": "stream",
                    "text": [
                        "0     apple\n",
                        "1    banana\n",
                        "2    carrot\n",
                        "3    daikon\n",
                        "dtype: object\n"
                    ]
                }
            ],
            "source": [
                "\"\"\" \n",
                "Instructions :\n",
                "\n",
                "Create a list of products, 'Apple', 'Banana', 'Carrot', 'Daikon'.\n",
                "Convert the list into a pandas Series using the pd.Series() function.\n",
                "Print out the new Series to see the values.\n",
                "Create a Series with prices of the products, [2, 1, 3, 4]\n",
                "Print out the new Series to see the values.\n",
                "Add the two Series together and print out the result.\n",
                "Create a DataFrame using a dictionary of lists, where the keys are 'Product' and 'Price' and the values are the two Series you created.\n",
                "Print out the DataFrame to see the values.\n",
                "Create a DataFrame using a list of dictionaries, where each dictionary represents a row in the DataFrame with keys 'Product' and 'Price' and values from the two Series you created.\n",
                "Print out the DataFrame to see the values. Make sure to import pandas library before doing the exercises. \n",
                "\"\"\"\n",
                "import pandas as pd\n",
                "list_3 = [\"apple\",\"banana\",\"carrot\",\"daikon\"]\n",
                "list_3_series = pd.Series(list_3)\n",
                "print(list_3_series)"
            ]
        },
        {
            "cell_type": "code",
            "execution_count": 6,
            "id": "ef574239",
            "metadata": {},
            "outputs": [
                {
                    "data": {
                        "text/plain": [
                            "0    2\n",
                            "1    1\n",
                            "2    3\n",
                            "3    4\n",
                            "dtype: int64"
                        ]
                    },
                    "execution_count": 6,
                    "metadata": {},
                    "output_type": "execute_result"
                }
            ],
            "source": [
                "prices_series = pd.Series([2, 1, 3, 4])\n",
                "prices_series"
            ]
        },
        {
            "cell_type": "code",
            "execution_count": 11,
            "id": "cf15a69b",
            "metadata": {},
            "outputs": [
                {
                    "data": {
                        "text/html": [
                            "<div>\n",
                            "<style scoped>\n",
                            "    .dataframe tbody tr th:only-of-type {\n",
                            "        vertical-align: middle;\n",
                            "    }\n",
                            "\n",
                            "    .dataframe tbody tr th {\n",
                            "        vertical-align: top;\n",
                            "    }\n",
                            "\n",
                            "    .dataframe thead th {\n",
                            "        text-align: right;\n",
                            "    }\n",
                            "</style>\n",
                            "<table border=\"1\" class=\"dataframe\">\n",
                            "  <thead>\n",
                            "    <tr style=\"text-align: right;\">\n",
                            "      <th></th>\n",
                            "      <th>ProductName</th>\n",
                            "      <th>ProductPrice</th>\n",
                            "    </tr>\n",
                            "  </thead>\n",
                            "  <tbody>\n",
                            "    <tr>\n",
                            "      <th>0</th>\n",
                            "      <td>apple</td>\n",
                            "      <td>2</td>\n",
                            "    </tr>\n",
                            "    <tr>\n",
                            "      <th>1</th>\n",
                            "      <td>banana</td>\n",
                            "      <td>1</td>\n",
                            "    </tr>\n",
                            "    <tr>\n",
                            "      <th>2</th>\n",
                            "      <td>carrot</td>\n",
                            "      <td>3</td>\n",
                            "    </tr>\n",
                            "    <tr>\n",
                            "      <th>3</th>\n",
                            "      <td>daikon</td>\n",
                            "      <td>4</td>\n",
                            "    </tr>\n",
                            "  </tbody>\n",
                            "</table>\n",
                            "</div>"
                        ],
                        "text/plain": [
                            "  ProductName  ProductPrice\n",
                            "0       apple             2\n",
                            "1      banana             1\n",
                            "2      carrot             3\n",
                            "3      daikon             4"
                        ]
                    },
                    "execution_count": 11,
                    "metadata": {},
                    "output_type": "execute_result"
                }
            ],
            "source": [
                "data = {\"ProductName\": list_3_series, \"ProductPrice\": prices_series}\n",
                "df = pd.DataFrame(data)\n",
                "df"
            ]
        },
        {
            "cell_type": "code",
            "execution_count": 13,
            "id": "0dc90057",
            "metadata": {},
            "outputs": [
                {
                    "data": {
                        "text/html": [
                            "<div>\n",
                            "<style scoped>\n",
                            "    .dataframe tbody tr th:only-of-type {\n",
                            "        vertical-align: middle;\n",
                            "    }\n",
                            "\n",
                            "    .dataframe tbody tr th {\n",
                            "        vertical-align: top;\n",
                            "    }\n",
                            "\n",
                            "    .dataframe thead th {\n",
                            "        text-align: right;\n",
                            "    }\n",
                            "</style>\n",
                            "<table border=\"1\" class=\"dataframe\">\n",
                            "  <thead>\n",
                            "    <tr style=\"text-align: right;\">\n",
                            "      <th></th>\n",
                            "      <th>product</th>\n",
                            "      <th>price</th>\n",
                            "    </tr>\n",
                            "  </thead>\n",
                            "  <tbody>\n",
                            "    <tr>\n",
                            "      <th>0</th>\n",
                            "      <td>apple</td>\n",
                            "      <td>2</td>\n",
                            "    </tr>\n",
                            "    <tr>\n",
                            "      <th>1</th>\n",
                            "      <td>banana</td>\n",
                            "      <td>1</td>\n",
                            "    </tr>\n",
                            "    <tr>\n",
                            "      <th>2</th>\n",
                            "      <td>carrot</td>\n",
                            "      <td>1</td>\n",
                            "    </tr>\n",
                            "    <tr>\n",
                            "      <th>3</th>\n",
                            "      <td>daikon</td>\n",
                            "      <td>4</td>\n",
                            "    </tr>\n",
                            "  </tbody>\n",
                            "</table>\n",
                            "</div>"
                        ],
                        "text/plain": [
                            "  product price\n",
                            "0   apple     2\n",
                            "1  banana     1\n",
                            "2  carrot     1\n",
                            "3  daikon     4"
                        ]
                    },
                    "execution_count": 13,
                    "metadata": {},
                    "output_type": "execute_result"
                }
            ],
            "source": [
                "data = [\n",
                "    {\"product\":\"apple\",\"price\":\"2\"},\n",
                "    {\"product\":\"banana\",\"price\":\"1\"},\n",
                "    {\"product\":\"carrot\",\"price\":\"1\"},\n",
                "    {\"product\":\"daikon\",\"price\":\"4\"}\n",
                "]\n",
                "\n",
                "df = pd.DataFrame(data)\n",
                "df"
            ]
        },
        {
            "cell_type": "code",
            "execution_count": 2,
            "id": "d9214b3b",
            "metadata": {},
            "outputs": [
                {
                    "name": "stdout",
                    "output_type": "stream",
                    "text": [
                        "    Name Department  Age  Gender  Salary  Experience\n",
                        "0   John         IT   30    Male   50000           3\n",
                        "1   Mary  Marketing   40  Female   60000           7\n",
                        "2    Bob      Sales   25    Male   45000           2\n",
                        "3  Sarah         IT   35  Female   55000           5\n",
                        "4    Tom    Finance   45    Male   70000          10\n",
                        "5   Lisa  Marketing   28  Female   55000           4\n"
                    ]
                }
            ],
            "source": [
                "import pandas as pd\n",
                "\n",
                "data = {\n",
                "        'Name': ['John', 'Mary', 'Bob', 'Sarah', 'Tom', 'Lisa'],\n",
                "        'Department': ['IT', 'Marketing', 'Sales', 'IT', 'Finance', 'Marketing'],\n",
                "        'Age': [30, 40, 25, 35, 45, 28],\n",
                "        'Gender': ['Male', 'Female', 'Male', 'Female', 'Male', 'Female'],\n",
                "        'Salary': [50000, 60000, 45000, 55000, 70000, 55000],\n",
                "        'Experience': [3, 7, 2, 5, 10, 4]\n",
                "        }\n",
                "\n",
                "employee_df = pd.DataFrame(data)\n",
                "print(employee_df)\n"
            ]
        },
        {
            "cell_type": "code",
            "execution_count": null,
            "id": "f2f0057a",
            "metadata": {},
            "outputs": [
                {
                    "name": "stdout",
                    "output_type": "stream",
                    "text": [
                        "   Name Department  Age  Gender  Salary  Experience\n",
                        "1  Mary  Marketing   40  Female   60000           7\n",
                        "5  Lisa  Marketing   28  Female   55000           4\n"
                    ]
                }
            ],
            "source": [
                "#Select the first 3 rows of the dataframe\n",
                "selected_rows = employee_df.iloc[:3,:]\n",
                "\n",
                "\n",
                "#Select all rows where the Department is \"Marketing\"\n",
                "selected_Marketing = employee_df.loc[employee_df[\"Department\"]== \"Marketing\"]\n",
                "print(selected_Marketing)"
            ]
        },
        {
            "cell_type": "code",
            "execution_count": 3,
            "id": "6a6aec54",
            "metadata": {},
            "outputs": [
                {
                    "name": "stdout",
                    "output_type": "stream",
                    "text": [
                        "   Age  Gender\n",
                        "0   30    Male\n",
                        "1   40  Female\n",
                        "2   25    Male\n",
                        "3   35  Female\n"
                    ]
                }
            ],
            "source": [
                "#select the Age and Gender columns for the first 4 rows of the dataframe.\n",
                "selected_4rows = employee_df.iloc[0:4,[2,3]]\n",
                "print(selected_4rows)"
            ]
        },
        {
            "cell_type": "code",
            "execution_count": 4,
            "id": "eef7cd9c",
            "metadata": {},
            "outputs": [
                {
                    "data": {
                        "text/html": [
                            "<div>\n",
                            "<style scoped>\n",
                            "    .dataframe tbody tr th:only-of-type {\n",
                            "        vertical-align: middle;\n",
                            "    }\n",
                            "\n",
                            "    .dataframe tbody tr th {\n",
                            "        vertical-align: top;\n",
                            "    }\n",
                            "\n",
                            "    .dataframe thead th {\n",
                            "        text-align: right;\n",
                            "    }\n",
                            "</style>\n",
                            "<table border=\"1\" class=\"dataframe\">\n",
                            "  <thead>\n",
                            "    <tr style=\"text-align: right;\">\n",
                            "      <th></th>\n",
                            "      <th>Salary</th>\n",
                            "      <th>Experience</th>\n",
                            "    </tr>\n",
                            "  </thead>\n",
                            "  <tbody>\n",
                            "    <tr>\n",
                            "      <th>0</th>\n",
                            "      <td>50000</td>\n",
                            "      <td>3</td>\n",
                            "    </tr>\n",
                            "    <tr>\n",
                            "      <th>2</th>\n",
                            "      <td>45000</td>\n",
                            "      <td>2</td>\n",
                            "    </tr>\n",
                            "    <tr>\n",
                            "      <th>4</th>\n",
                            "      <td>70000</td>\n",
                            "      <td>10</td>\n",
                            "    </tr>\n",
                            "  </tbody>\n",
                            "</table>\n",
                            "</div>"
                        ],
                        "text/plain": [
                            "   Salary  Experience\n",
                            "0   50000           3\n",
                            "2   45000           2\n",
                            "4   70000          10"
                        ]
                    },
                    "execution_count": 4,
                    "metadata": {},
                    "output_type": "execute_result"
                }
            ],
            "source": [
                "#select the Salary and Experience columns for all rows where the Gender is \"Male\".\n",
                "selected_male = employee_df.loc[employee_df[\"Gender\"]== \"Male\", [\"Salary\",\"Experience\"]]\n",
                "selected_male"
            ]
        }
    ],
    "metadata": {
        "kernelspec": {
            "display_name": "Python 3",
            "language": "python",
            "name": "python3"
        },
        "language_info": {
            "codemirror_mode": {
                "name": "ipython",
                "version": 3
            },
            "file_extension": ".py",
            "mimetype": "text/x-python",
            "name": "python",
            "nbconvert_exporter": "python",
            "pygments_lexer": "ipython3",
            "version": "3.11.9"
        }
    },
    "nbformat": 4,
    "nbformat_minor": 5
}
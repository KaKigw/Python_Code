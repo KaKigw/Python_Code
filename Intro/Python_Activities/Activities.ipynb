{
    "cells": [
        {
            "cell_type": "code",
            "execution_count": 44,
            "id": "ca39acd4",
            "metadata": {},
            "outputs": [
                {
                    "name": "stdout",
                    "output_type": "stream",
                    "text": [
                        "2.3.1\n",
                        "[0 0 0 0 0 0 0 0 0 0]\n"
                    ]
                }
            ],
            "source": [
                "import numpy as np\n",
                "\n",
                "print(np.__version__)\n",
                "\n",
                "Z = np.zeros(10, dtype=np.int32)\n",
                "print(Z)\n",
                "\n"
            ]
        },
        {
            "cell_type": "code",
            "execution_count": 45,
            "id": "116ca9a2",
            "metadata": {},
            "outputs": [
                {
                    "name": "stdout",
                    "output_type": "stream",
                    "text": [
                        "[10 11 12 13 14 15 16 17 18 19 20 21 22 23 24 25 26 27 28 29 30 31 32 33\n",
                        " 34 35 36 37 38 39 40 41 42 43 44 45 46 47 48 49]\n",
                        "[20 19 18 17 16 15 14 13 12 11 10]\n"
                    ]
                }
            ],
            "source": [
                "Z = np.arange(10,50)\n",
                "print(Z)\n",
                "Z = Z[10::-1]\n",
                "print(Z)"
            ]
        },
        {
            "cell_type": "code",
            "execution_count": 46,
            "id": "99e53d52",
            "metadata": {},
            "outputs": [
                {
                    "data": {
                        "text/plain": [
                            "array([[0, 1, 2],\n",
                            "       [3, 4, 5],\n",
                            "       [6, 7, 8]], dtype=int8)"
                        ]
                    },
                    "execution_count": 46,
                    "metadata": {},
                    "output_type": "execute_result"
                }
            ],
            "source": [
                "#### 9. Create a 3x3 matrix with values ranging from 0 to 8\n",
                "Z = np.arange(0,9,dtype=np.int8).reshape(3,3)\n",
                "Z"
            ]
        },
        {
            "cell_type": "code",
            "execution_count": 47,
            "id": "a678fedc",
            "metadata": {},
            "outputs": [
                {
                    "name": "stdout",
                    "output_type": "stream",
                    "text": [
                        "[0 1 4]\n"
                    ]
                }
            ],
            "source": [
                "#### 10. Find indices of non-zero elements from [1,2,0,0,4,0]\n",
                "nz = np.nonzero([1,2,0,0,4,0])\n",
                "print(nz[0])"
            ]
        },
        {
            "cell_type": "code",
            "execution_count": 48,
            "id": "59696af4",
            "metadata": {},
            "outputs": [
                {
                    "data": {
                        "text/plain": [
                            "array([[1., 0., 0.],\n",
                            "       [0., 1., 0.],\n",
                            "       [0., 0., 1.]])"
                        ]
                    },
                    "execution_count": 48,
                    "metadata": {},
                    "output_type": "execute_result"
                }
            ],
            "source": [
                "A = np.eye(3)\n",
                "A"
            ]
        },
        {
            "cell_type": "code",
            "execution_count": 49,
            "id": "6b4eab78",
            "metadata": {},
            "outputs": [
                {
                    "data": {
                        "text/plain": [
                            "array([[[8, 9, 8],\n",
                            "        [2, 8, 4],\n",
                            "        [6, 5, 7]],\n",
                            "\n",
                            "       [[8, 7, 5],\n",
                            "        [6, 5, 4],\n",
                            "        [7, 3, 9]],\n",
                            "\n",
                            "       [[1, 3, 9],\n",
                            "        [7, 7, 6],\n",
                            "        [9, 3, 6]]], dtype=int32)"
                        ]
                    },
                    "execution_count": 49,
                    "metadata": {},
                    "output_type": "execute_result"
                }
            ],
            "source": [
                "Z = np.random.random((3,3,3))\n",
                "X =np.random.randint(1, 10, size=(3, 3, 3))\n",
                "X"
            ]
        },
        {
            "cell_type": "code",
            "execution_count": 50,
            "id": "72269d35",
            "metadata": {},
            "outputs": [
                {
                    "name": "stdout",
                    "output_type": "stream",
                    "text": [
                        "[[7 4 3 3 4 4 1 2 6 4]\n",
                        " [9 7 2 1 1 6 3 9 2 5]\n",
                        " [9 6 2 8 6 8 9 1 6 4]\n",
                        " [5 5 9 8 6 3 8 5 3 8]\n",
                        " [1 1 7 8 7 7 3 3 4 8]\n",
                        " [2 2 5 9 2 3 9 2 6 2]\n",
                        " [9 1 5 1 8 4 4 4 3 3]\n",
                        " [3 7 9 2 7 6 3 8 4 9]\n",
                        " [6 9 9 6 9 1 6 7 4 2]\n",
                        " [3 3 1 3 9 3 9 1 7 3]]\n",
                        "\n",
                        "\n",
                        "1 9\n",
                        "\n",
                        "\n",
                        "1\n"
                    ]
                }
            ],
            "source": [
                "Z = np.random.randint(1,10, size=(10,10))\n",
                "print(Z)\n",
                "print(\"\\n\")\n",
                "Zmin, Zmax = Z.min(), Z.max()\n",
                "print(Zmin, Zmax)\n",
                "print(\"\\n\")\n",
                "S = np.min(Z)\n",
                "print(S)"
            ]
        },
        {
            "cell_type": "code",
            "execution_count": 51,
            "id": "652b9100",
            "metadata": {},
            "outputs": [
                {
                    "name": "stdout",
                    "output_type": "stream",
                    "text": [
                        "[[6 1 4 9 4 2 7 6 2 4]]\n",
                        "4.5\n"
                    ]
                }
            ],
            "source": [
                "Z = np.random.randint(1,10, size=(1,10))\n",
                "print(Z)\n",
                "m = Z.mean()\n",
                "print(m)\n"
            ]
        },
        {
            "cell_type": "code",
            "execution_count": 52,
            "id": "ad938851",
            "metadata": {},
            "outputs": [
                {
                    "name": "stdout",
                    "output_type": "stream",
                    "text": [
                        "[[1 1 1 1 1 1 1 1 1 1]\n",
                        " [1 0 0 0 0 0 0 0 0 1]\n",
                        " [1 0 0 0 0 0 0 0 0 1]\n",
                        " [1 0 0 0 0 0 0 0 0 1]\n",
                        " [1 0 0 0 0 0 0 0 0 1]\n",
                        " [1 0 0 0 0 0 0 0 0 1]\n",
                        " [1 0 0 0 0 0 0 0 0 1]\n",
                        " [1 0 0 0 0 0 0 0 0 1]\n",
                        " [1 0 0 0 0 0 0 0 0 1]\n",
                        " [1 1 1 1 1 1 1 1 1 1]]\n"
                    ]
                }
            ],
            "source": [
                "Z = np.ones((10,10),dtype = np.int32)\n",
                "Z[1:-1,1:-1] = 0\n",
                "print(Z)"
            ]
        },
        {
            "cell_type": "code",
            "execution_count": 55,
            "id": "40cd62a0",
            "metadata": {},
            "outputs": [
                {
                    "name": "stdout",
                    "output_type": "stream",
                    "text": [
                        "[[0 0 0 0 0 0 0]\n",
                        " [0 1 1 1 1 1 0]\n",
                        " [0 1 1 1 1 1 0]\n",
                        " [0 1 1 1 1 1 0]\n",
                        " [0 1 1 1 1 1 0]\n",
                        " [0 1 1 1 1 1 0]\n",
                        " [0 0 0 0 0 0 0]]\n"
                    ]
                }
            ],
            "source": [
                "Z = np.ones((5,5),dtype=np.int32)\n",
                "Z = np.pad(Z,pad_width=1,mode='constant',constant_values=0)\n",
                "print(Z)\n"
            ]
        },
        {
            "cell_type": "code",
            "execution_count": 56,
            "id": "540a959b",
            "metadata": {},
            "outputs": [
                {
                    "data": {
                        "text/plain": [
                            "True"
                        ]
                    },
                    "execution_count": 56,
                    "metadata": {},
                    "output_type": "execute_result"
                }
            ],
            "source": [
                "0 * np.nan\n",
                "np.nan == np.nan\n",
                "np.inf > np.nan\n",
                "np.nan - np.nan\n",
                "np.nan in set([np.nan])"
            ]
        },
        {
            "cell_type": "code",
            "execution_count": 1,
            "id": "4c1beb30",
            "metadata": {},
            "outputs": [
                {
                    "name": "stdout",
                    "output_type": "stream",
                    "text": [
                        "Covariance matrix of matrix_A:\n",
                        " [[ 1.5 -2.   2. ]\n",
                        " [-2.   7.7 -7. ]\n",
                        " [ 2.  -7.   8.5]]\n"
                    ]
                }
            ],
            "source": [
                "import numpy as np\n",
                "# Data matrix\n",
                "matrix_A = np.array([[1, 0, 0, 3, 1], [3, 6, 6, 2, 9], [4, 5, 3, 8, 0]])\n",
                "# Covariance matrix calculation\n",
                "cov_matrix = np.cov(matrix_A)\n",
                "print(\"Covariance matrix of matrix_A:\\n\", cov_matrix)"
            ]
        },
        {
            "cell_type": "code",
            "execution_count": 2,
            "id": "a58bb39d",
            "metadata": {},
            "outputs": [],
            "source": [
                "Z = np.array([[2, 4, 6], [8, 10, 12], [14, 16, 18]])"
            ]
        },
        {
            "cell_type": "code",
            "execution_count": 4,
            "id": "f22afa3a",
            "metadata": {},
            "outputs": [
                {
                    "name": "stdout",
                    "output_type": "stream",
                    "text": [
                        "10.0\n",
                        "10.0\n"
                    ]
                }
            ],
            "source": [
                "print(np.mean(Z))\n",
                "print(np.median(Z))"
            ]
        },
        {
            "cell_type": "code",
            "execution_count": 5,
            "id": "4308e354",
            "metadata": {},
            "outputs": [
                {
                    "name": "stdout",
                    "output_type": "stream",
                    "text": [
                        "14.5\n"
                    ]
                }
            ],
            "source": [
                "Z = np.array([1,3,5,7,9,11,13,15,17,19])\n",
                "print(np.percentile(Z,75))"
            ]
        },
        {
            "cell_type": "code",
            "execution_count": 6,
            "id": "1cc5638f",
            "metadata": {},
            "outputs": [
                {
                    "name": "stdout",
                    "output_type": "stream",
                    "text": [
                        "5.5\n"
                    ]
                }
            ],
            "source": [
                "Z = np.array([1,3,5,7,9,11,13,15,17,19])\n",
                "print(np.percentile(Z,25))"
            ]
        },
        {
            "cell_type": "code",
            "execution_count": null,
            "id": "5f3c6796",
            "metadata": {},
            "outputs": [],
            "source": []
        }
    ],
    "metadata": {
        "kernelspec": {
            "display_name": "Python 3",
            "language": "python",
            "name": "python3"
        },
        "language_info": {
            "codemirror_mode": {
                "name": "ipython",
                "version": 3
            },
            "file_extension": ".py",
            "mimetype": "text/x-python",
            "name": "python",
            "nbconvert_exporter": "python",
            "pygments_lexer": "ipython3",
            "version": "3.11.9"
        }
    },
    "nbformat": 4,
    "nbformat_minor": 5
}